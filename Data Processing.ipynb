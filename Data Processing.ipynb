{
 "metadata": {
  "name": "",
  "signature": "sha256:ef765e2d7c5b66a3f02430d4f237f5dc4da96134bb938f3e3eaae2f4eb66d011"
 },
 "nbformat": 3,
 "nbformat_minor": 0,
 "worksheets": [
  {
   "cells": [
    {
     "cell_type": "code",
     "collapsed": false,
     "input": [
      "import pandas as pd"
     ],
     "language": "python",
     "metadata": {},
     "outputs": [],
     "prompt_number": 1
    },
    {
     "cell_type": "code",
     "collapsed": false,
     "input": [
      "data = pd.read_csv('Review 2014.csv')"
     ],
     "language": "python",
     "metadata": {},
     "outputs": [],
     "prompt_number": 2
    },
    {
     "cell_type": "markdown",
     "metadata": {},
     "source": [
      "# Socials Questions"
     ]
    },
    {
     "cell_type": "markdown",
     "metadata": {},
     "source": [
      "How frequently do you attend Tang social events organized by the Tang government (THRA)?"
     ]
    },
    {
     "cell_type": "code",
     "collapsed": false,
     "input": [
      "data['How frequently do you attend Tang social events organized by the Tang government (THRA)?'].value_counts()"
     ],
     "language": "python",
     "metadata": {},
     "outputs": [
      {
       "metadata": {},
       "output_type": "pyout",
       "prompt_number": 3,
       "text": [
        "1-2 times a semester                  33\n",
        "1-2 times a month                     26\n",
        "Never                                  6\n",
        "1-2 times a year                       6\n",
        "Didn't know Tang has social events     1\n",
        "dtype: int64"
       ]
      }
     ],
     "prompt_number": 3
    },
    {
     "cell_type": "markdown",
     "metadata": {},
     "source": [
      "Do you think the socials organized by the Tang government (THRA) have helped create a social, friendly atmosphere in Tang over the past year?"
     ]
    },
    {
     "cell_type": "code",
     "collapsed": false,
     "input": [
      "data['Do you think the socials organized by the Tang government (THRA) have helped create a social, friendly atmosphere in Tang over the past year?'].value_counts()"
     ],
     "language": "python",
     "metadata": {},
     "outputs": [
      {
       "metadata": {},
       "output_type": "pyout",
       "prompt_number": 4,
       "text": [
        "Agree                33\n",
        "Neutral              25\n",
        "Strongly Agree        8\n",
        "Disagree              5\n",
        "Strongly Disagree     1\n",
        "dtype: int64"
       ]
      }
     ],
     "prompt_number": 4
    },
    {
     "cell_type": "markdown",
     "metadata": {},
     "source": [
      "# Sports Questions"
     ]
    },
    {
     "cell_type": "markdown",
     "metadata": {},
     "source": [
      "Are you a sports fan?"
     ]
    },
    {
     "cell_type": "code",
     "collapsed": false,
     "input": [
      "data['Are you a sports fan?'].value_counts()"
     ],
     "language": "python",
     "metadata": {},
     "outputs": [
      {
       "metadata": {},
       "output_type": "pyout",
       "prompt_number": 5,
       "text": [
        "No     36\n",
        "Yes    36\n",
        "dtype: int64"
       ]
      }
     ],
     "prompt_number": 5
    },
    {
     "cell_type": "markdown",
     "metadata": {},
     "source": [
      "How do you prefer to enjoy sports?"
     ]
    },
    {
     "cell_type": "code",
     "collapsed": false,
     "input": [
      "data['How do you prefer to enjoy sports?'].value_counts()"
     ],
     "language": "python",
     "metadata": {},
     "outputs": [
      {
       "metadata": {},
       "output_type": "pyout",
       "prompt_number": 6,
       "text": [
        "Play sports, Watch sporting events    19\n",
        "Play sports                           11\n",
        "Watch sporting events                  6\n",
        "dtype: int64"
       ]
      }
     ],
     "prompt_number": 6
    },
    {
     "cell_type": "markdown",
     "metadata": {},
     "source": [
      "If you prefer to play sports, would you prefer to join:"
     ]
    },
    {
     "cell_type": "code",
     "collapsed": false,
     "input": [
      "data['If you prefer to play sports, would you prefer to join:'].value_counts()"
     ],
     "language": "python",
     "metadata": {},
     "outputs": [
      {
       "metadata": {},
       "output_type": "pyout",
       "prompt_number": 7,
       "text": [
        "Tang IM Teams, Other IM Teams         10\n",
        "Tang IM Teams                          9\n",
        "Other IM Teams                         5\n",
        "Tang IM Teams, Other IM Teams, N/A     1\n",
        "dtype: int64"
       ]
      }
     ],
     "prompt_number": 7
    },
    {
     "cell_type": "markdown",
     "metadata": {},
     "source": [
      "If you prefer to watch sporting events, such as the Olympics, are you interested in watching them with your neighbours?"
     ]
    },
    {
     "cell_type": "code",
     "collapsed": false,
     "input": [
      "data['If you prefer to watch sporting events, such as the Olympics, are you interested in watching them with your neighbours?'].value_counts()"
     ],
     "language": "python",
     "metadata": {},
     "outputs": [
      {
       "metadata": {},
       "output_type": "pyout",
       "prompt_number": 8,
       "text": [
        "Yes    26\n",
        "No      7\n",
        "dtype: int64"
       ]
      }
     ],
     "prompt_number": 8
    },
    {
     "cell_type": "markdown",
     "metadata": {},
     "source": [
      "# Facilities Questions"
     ]
    },
    {
     "cell_type": "markdown",
     "metadata": {},
     "source": [
      "## How often do you use the following facilities?\n",
      "### Gym (sub-basement)"
     ]
    },
    {
     "cell_type": "code",
     "collapsed": false,
     "input": [
      "data['Please choose the option that best describes the frequency with which you use the following Tang facilities (excluding events held by the THRA): [Gym (sub-basement)]'].value_counts()"
     ],
     "language": "python",
     "metadata": {},
     "outputs": [
      {
       "metadata": {},
       "output_type": "pyout",
       "prompt_number": 9,
       "text": [
        "Never                    25\n",
        "1-4 times a week         17\n",
        "1-4 times a month        12\n",
        "1-4 times a semester     11\n",
        "Didn't know it exists     4\n",
        "Daily                     3\n",
        "dtype: int64"
       ]
      }
     ],
     "prompt_number": 9
    },
    {
     "cell_type": "markdown",
     "metadata": {},
     "source": [
      "### 24th Floor Lounge"
     ]
    },
    {
     "cell_type": "code",
     "collapsed": false,
     "input": [
      "data['Please choose the option that best describes the frequency with which you use the following Tang facilities (excluding events held by the THRA): [24th Floor Lounge]'].value_counts()"
     ],
     "language": "python",
     "metadata": {},
     "outputs": [
      {
       "metadata": {},
       "output_type": "pyout",
       "prompt_number": 10,
       "text": [
        "1-4 times a semester    42\n",
        "1-4 times a month       20\n",
        "Never                    9\n",
        "1-4 times a week         1\n",
        "dtype: int64"
       ]
      }
     ],
     "prompt_number": 10
    },
    {
     "cell_type": "markdown",
     "metadata": {},
     "source": [
      "### Music Room"
     ]
    },
    {
     "cell_type": "code",
     "collapsed": false,
     "input": [
      "data['Please choose the option that best describes the frequency with which you use the following Tang facilities (excluding events held by the THRA): [Music Room]'].value_counts()"
     ],
     "language": "python",
     "metadata": {},
     "outputs": [
      {
       "metadata": {},
       "output_type": "pyout",
       "prompt_number": 11,
       "text": [
        "Never                    54\n",
        "1-4 times a semester      7\n",
        "1-4 times a month         6\n",
        "1-4 times a week          3\n",
        "Didn't know it exists     2\n",
        "dtype: int64"
       ]
      }
     ],
     "prompt_number": 11
    },
    {
     "cell_type": "markdown",
     "metadata": {},
     "source": [
      "### Ping Pong Table"
     ]
    },
    {
     "cell_type": "code",
     "collapsed": false,
     "input": [
      "data['Please choose the option that best describes the frequency with which you use the following Tang facilities (excluding events held by the THRA): [Table Tennis (ping-pong) table\u00a0(ground floor lounge)]'].value_counts()"
     ],
     "language": "python",
     "metadata": {},
     "outputs": [
      {
       "metadata": {},
       "output_type": "pyout",
       "prompt_number": 12,
       "text": [
        "Never                    49\n",
        "1-4 times a semester     17\n",
        "1-4 times a month         5\n",
        "Didn't know it exists     1\n",
        "dtype: int64"
       ]
      }
     ],
     "prompt_number": 12
    },
    {
     "cell_type": "markdown",
     "metadata": {},
     "source": [
      "### Pool Table"
     ]
    },
    {
     "cell_type": "code",
     "collapsed": false,
     "input": [
      "data['Please choose the option that best describes the frequency with which you use the following Tang facilities (excluding events held by the THRA): [Pool table\u00a0(ground floor lounge)]'].value_counts()"
     ],
     "language": "python",
     "metadata": {},
     "outputs": [
      {
       "metadata": {},
       "output_type": "pyout",
       "prompt_number": 13,
       "text": [
        "Never                    46\n",
        "1-4 times a semester     13\n",
        "1-4 times a month         9\n",
        "Didn't know it exists     3\n",
        "1-4 times a week          1\n",
        "dtype: int64"
       ]
      }
     ],
     "prompt_number": 13
    },
    {
     "cell_type": "markdown",
     "metadata": {},
     "source": [
      "## How satisfied are you with the facilities at Tang?"
     ]
    },
    {
     "cell_type": "markdown",
     "metadata": {},
     "source": [
      "### Ping-Pong Table"
     ]
    },
    {
     "cell_type": "code",
     "collapsed": false,
     "input": [
      "data['How satisfied are you with the following Tang facilities? [Table Tennis (ping-pong) table (ground floor lounge)]'].value_counts()"
     ],
     "language": "python",
     "metadata": {},
     "outputs": [
      {
       "metadata": {},
       "output_type": "pyout",
       "prompt_number": 14,
       "text": [
        "Satisfactory        9\n",
        "Poor                7\n",
        "Very Unsatisfied    5\n",
        "Good                4\n",
        "Very Satisfied      3\n",
        "dtype: int64"
       ]
      }
     ],
     "prompt_number": 14
    },
    {
     "cell_type": "markdown",
     "metadata": {},
     "source": [
      "### Pool Table"
     ]
    },
    {
     "cell_type": "code",
     "collapsed": false,
     "input": [
      "data['How satisfied are you with the following Tang facilities? [Pool Table\u00a0(ground floor lounge)]'].value_counts()"
     ],
     "language": "python",
     "metadata": {},
     "outputs": [
      {
       "metadata": {},
       "output_type": "pyout",
       "prompt_number": 15,
       "text": [
        "Satisfactory        13\n",
        "Good                 6\n",
        "Very Satisfied       4\n",
        "Very Unsatisfied     2\n",
        "Poor                 1\n",
        "dtype: int64"
       ]
      }
     ],
     "prompt_number": 15
    },
    {
     "cell_type": "markdown",
     "metadata": {},
     "source": [
      "# Recycling\n",
      "\n",
      "Do you place your recyclables in the recycling area (near the Tang rear entrance)?"
     ]
    },
    {
     "cell_type": "code",
     "collapsed": false,
     "input": [
      "data['Do you place your recyclables in the recycling area (near the Tang rear entrance)?'].value_counts()"
     ],
     "language": "python",
     "metadata": {},
     "outputs": [
      {
       "metadata": {},
       "output_type": "pyout",
       "prompt_number": 16,
       "text": [
        "Yes                             57\n",
        "Didn't know recycling exists     9\n",
        "No                               6\n",
        "dtype: int64"
       ]
      }
     ],
     "prompt_number": 16
    },
    {
     "cell_type": "markdown",
     "metadata": {},
     "source": [
      "# Publicity"
     ]
    },
    {
     "cell_type": "markdown",
     "metadata": {},
     "source": [
      "How effective were the print posters / publicity emails / FB event posts in letting you know well in advance about upcoming Tang social events?"
     ]
    },
    {
     "cell_type": "code",
     "collapsed": false,
     "input": [
      "data['How effective were the print posters / publicity emails / FB event posts in letting you know well in advance about upcoming Tang social events?'].value_counts()"
     ],
     "language": "python",
     "metadata": {},
     "outputs": [
      {
       "metadata": {},
       "output_type": "pyout",
       "prompt_number": 17,
       "text": [
        "Very effective                        33\n",
        "Fairly effective                      20\n",
        "Made me excited and want to attend    16\n",
        "I didn't see any posters               2\n",
        "Hard to locate, not eye-catching       1\n",
        "dtype: int64"
       ]
      }
     ],
     "prompt_number": 17
    },
    {
     "cell_type": "markdown",
     "metadata": {},
     "source": [
      "# IT"
     ]
    },
    {
     "cell_type": "markdown",
     "metadata": {},
     "source": [
      "_What are the pain points in Tang IT facilities - please be specific? (for example, if you are facing Wi-Fi related issues)_"
     ]
    },
    {
     "cell_type": "code",
     "collapsed": false,
     "input": [
      "for row in data.iterrows():\n",
      "    response = row[1]['What are the pain points in Tang IT facilities - please be specific? (for example, if you are facing Wi-Fi related issues)']\n",
      "    \n",
      "    if pd.isnull(response) != True:\n",
      "        print response"
     ],
     "language": "python",
     "metadata": {},
     "outputs": [
      {
       "output_type": "stream",
       "stream": "stdout",
       "text": [
        "gym... nt well equipped .. stinky...\n",
        "No air conditioner\n",
        "Every now and then the wifi connection doesn't work well. Not sure what the issue is. There could be an ethernet connection in the living room area just like the cable for the TV.\n",
        "Frequent Wifi Outages,\n",
        "Absence of recycling bins on each floor\n",
        "WiFi cuts out a lot and I have to switch to Ethernet \n",
        "1. No thermostat control. There are often significant fluctuations.\n",
        "2. Somewhat frequent elevator non-functional.\n",
        ".\n",
        "Well. We have to get paper from front desk... which is troublesome and inconvenient after working hours.\n",
        "Wi-Fi is spotty in my room at times. \n",
        "Sometimes WiFi disconnects out of the blue.\n",
        "Super weird that you need a key to go to the gym or music room?\n",
        "I have not faced any, especially after WiFi got activated in the gym\n",
        "Ocasionally connectivity is slow and/or cuts out but I haven't been really bothered by it. \n",
        "Recycling annoying to lug down\n",
        "Printers being jammed or other problems; not having printer paper around after 10 pm when the front desk closes.\n",
        "Not having a soda vending machine\n",
        "Seems alright to me. Not having wifi in the basement was annoying, though that changed for a week. Last time I was down there it wasn't working again.\n",
        "WiFi is unacceptably slow. It's impossible to even get through a YouTube video at some points. \n",
        "None, wifi and wired works well. Printer s works well as well..\n",
        "Wireless connection is really poor .. I even have difficulty doing Facetime.\n",
        "Occasionally the Wi-Fi doesn't work in my room even though it says I'm connected.\n",
        "No problems at all.\n",
        "wifi is bad, low-speed, sometimes not connected\n",
        "computer in the laundry room is half broken and very old and slow\n",
        "printers there are usually malfunctional, and usually short of paper\n",
        "It's all good \n",
        "Wifi generally good. Cell phone signal strength very bad. \n",
        "WiFi is weak in the room. This is especially painful since the internet cable plug in my room(E4) is in a stupid place that I can not use.\n",
        "Some times, the internet does not work without any reason, and I don't know where to go to fix it\n",
        "The cable tv is hit or a miss. Sometimes the main channels work, other times they don't.\n",
        "Wifi is just extremely unreliable, much easier to have ethernet in rooms\n",
        "-\n",
        "All good here.\n",
        "Poor WI-fi in gym and even at rooms sometimes\n",
        "The major problem is noise. It travels easily through walls.\n",
        "\n",
        "Also, Wi-Fi signal is weak.\n",
        "WiFi has gotten a lot better over the past few months. Printers are always out of paper.\n",
        "Gym wifi is not reliable \n",
        "WiFi in gym still does not work for me. There was an email sent out saying WiFi in the gym is operational, but I have not been able to connect.\n",
        "Wi-Fi definitely is intermittent and sometimes I have poor connectivity with Wi-Fi on my phone. \n",
        "Wi-Fi seems to crash a lot, and usually runs fairly slowly (especially compared to other grad dorms on campus). I lose internet connectivity fairly often while sitting in my apartment.\n",
        "Wi-Fi in the gym is not working.\n",
        "Also, suffering of connection issues in my room.\n",
        "Wifi doesn't work in the workout room\n",
        "Ping pong table often breaks in half\n",
        "24th floor lounge is often booked when I want to use it\n",
        "Both lounges don't feel very \"homey\" - they're very institutional and I don't really enjoy being there\n",
        ".\n"
       ]
      }
     ],
     "prompt_number": 18
    },
    {
     "cell_type": "markdown",
     "metadata": {},
     "source": [
      "_Please list some recommendations regarding how to improve the existing facilities (Gym, 24th floor lounge, Music room, ping-pong, pool tables) / equipment at Tang._"
     ]
    },
    {
     "cell_type": "code",
     "collapsed": false,
     "input": [
      "for row in data.iterrows():\n",
      "    response = row[1]['Please list some recommendations regarding how to improve the existing facilities (Gym, 24th floor lounge, Music room, ping-pong, pool tables) / equipment at Tang.']\n",
      "    \n",
      "    if pd.isnull(response) != True:\n",
      "        print response"
     ],
     "language": "python",
     "metadata": {},
     "outputs": [
      {
       "output_type": "stream",
       "stream": "stdout",
       "text": [
        "Having disinfectant wipes/hand sanitizer in the gym\n",
        "gym ...instead of keys if it was an I card reader.. that would be convenient ...\n",
        "online music room reservation. \n",
        "Gym needs better TVs (at least the last time I was there they did).\n",
        "--better seating and dining tables/chairs in the lounge\n",
        "-- Making the 24th floor lounge free for the residents to reserve -- remove the $20 fee\n",
        "Drop the fee from using the BBQ pits please.\n",
        "1. The gym needs to be cleaned every once in a while, it looks really unhygienic.\n",
        "2. It could be nice if one could buzz in guests rather than having to go down each time.\n",
        "3. We used to have soda vending machines. Why were they disbanded?\n",
        "I don't know how to improve gym air circulation.\n",
        "No key to music room and gym would be good. Or at least make it clearer on how to get access. But the key thing just makes it feel unwelcome, so I would prefer no key.\n",
        "The Gym needs more cleaning rags. The location of the gym is very poor, however, I don't think much can be done about it. The 24th floor lounge can get more books.\n",
        "Please encouage more ventilation in the gym. Also if antibacterial wipes/cleaning solution were made available it would be much appreciated!\n",
        "\n",
        "rowing machine in gym\n",
        "Maybe more couches in the 24th floor lounge.\n",
        "Perhaps a window glass which enables taking good photos from up there.\n",
        "Gym - Squat Rack?\n",
        "Ping Pong - More room would be nice but thats probably not feasible\n",
        "Pool - I don't think it is level\n",
        "Recycling - The bins are always overflowing and a mess in general\n",
        "Too little space. \n",
        "Is there anyway to make the Gym has a better circulation?\n",
        "A recycle bin on each floor would really really help. Bring all the cupboards down to the corner is a pain in the ass.\n",
        "I believe Wi-Fi was installed in the gym, but lately it has not been available. But this was a nice improvement.\n",
        "24th floor lounge could use nicer furniture and better lighting (not so bright and florescent). Music room needs the heat turned down, it's way too hot usually. \n",
        "get nice pool table\n",
        "get nice facilities in the gym\n",
        "get better equipment in 24th floor lounge\n",
        "get better collection of movie rentals\n",
        "the music room looks squished and small, perhaps because of the size of the piano relative to the room\n",
        "\n",
        "there doesn't seem to be much use of the lounge and that may be because there is very little present (on the first floor, there is only a pool table, a ping pong table, and a sofa facing a TV that can't be turned on; on the 24th floor, the TV control seems to be broken). if there were perhaps game systems or a karaoke system attached to the TVs, it would be a funner place to hang out in outside of THRA events.\n",
        "The gym main door doesn't work with my key; I have to go in the side door \n",
        "If there was a way to watch DVDs on the TVS in the lounge WITHOUT borrowing the WII, which can only be done during specific (early) hours. \n",
        "Also, the DVD rental has been down for 6+ months by my count. Makes it pretty useless. \n",
        "Should introduce the equipment in 24th floor lounge to residents. I didn't know we can use the microwaves there.\n",
        "Gym needs to have new equipment\n",
        "Put a coin change machine in the laundry room\n",
        "For the gym, can we get some accessories like jumping ropes, pulldown ropes for the two machines, some thick yoga mats for doing floor exercises? Those would be very very useful.\n",
        "Fix ping pong table,\n",
        "order new or fix tennis and squash rackets for people to rent\n",
        "There is no ping pong equipment available. This has been a problem for a good amount of time. The ping pong table needs maintenance also.\n",
        "The gym is just creepy in the sub-basement. Having to get a key to get in makes it supercumbersome to get in. I have requested a key TWICE with no success. I just use the on campus facilities. \n",
        "\n",
        "I really would suggest getting a MIT ID reader for access to the gym. It would make life easier.\n",
        "1.Gym needs more ventilation. It is not even Spring yet and the gym already feels like an oven. Also, neither the TV nor the music system is working there. \n",
        "2. 24th floor lounge needs to have an HDMI cable for screening films/videos. \n",
        "3. The sports equipment like TT rackets are often missing and not even available at the Tang desk.\n",
        "4. Some of the dryers don't work and they have no notice on them about them being dysfunctional. So people end up wasting time and money and still don't get their clothes dried.\n",
        "Once, I was running on a treadmill, and it abruptly shut off, as if it had lost power. I could have been badly injured if I had not reacted quickly. The other treadmill also seemed not to turn out at this time. Perhaps there is a fuse problem? Are higher-current outlets needed?\n",
        "I have bad experiences negotiating with noise makers... There are always people making loud noise after mid-night without considering those who try to fall asleep... and noise makers almost never take your words seriously... I cannot think of any other way to deal with noise makers except for keeping away from them by changing rooms\n",
        "Towels in the gym, more lighting, maybe music. \n",
        "Gym could use better ventilation and a thorough cleaning. Even some basic decorations could make it seem less like a dungeon.\n",
        "Stereo system that I can hook my iPhone \n",
        "I feel the gym is simply in the wrong place in the building viz. the basement -- it's really musty without any fresh air and not a great place to exercise (especially running or biking). It would be great if (part of) the gym could be swapped with where the ping pong and pool tables are. I suppose that's asking for a lot, but it would be great if you could consider this option in the THRA meetings.\n",
        "Can you please put the recycle bins back on every floor? Almost all of us have stopped recycling entirely because it is so inconvenient to go downstairs in the cold and dump stuff into the already overflowing recyclables container outside.\n",
        "Have more treadmills in the gym. More equipment. Maybe, make part of unused lobby, music room to be a second gym to accommodate more people.\n",
        "The treadmills are DANGEROUS. The last 3 times I have attempted to run on them they have spontaneously stopped dead and I almost fell. Luckily, I was only going 7-8 mph at the time and was able to stabilize myself with my hands. However, this issue needs to be fixed because I know other people that have had the same problem and it should be fixed before someone gets hurt not after.\n",
        "- The ping-pong table is broken. \n",
        "- There are not ping-pong paddles availables in the front desk. \n",
        "- The gym stereo system is not working.\n",
        "Get decent wifi in the gym and a TV that works!\n",
        "Put some effort into decorating the lounges to look more inviting\n",
        "Make sure the game systems in the 24th floor lounge have all the required parts\n",
        ".\n"
       ]
      }
     ],
     "prompt_number": 19
    },
    {
     "cell_type": "markdown",
     "metadata": {},
     "source": [
      "_What do you think the Tang government (THRA) can do better to involve Tang residents in participating in IM sports events?_"
     ]
    },
    {
     "cell_type": "code",
     "collapsed": false,
     "input": [
      "for row in data.iterrows():\n",
      "    response = row[1]['What do you think the Tang government (THRA) can do better to involve Tang residents in participating in IM sports events?']\n",
      "    \n",
      "    if pd.isnull(response) != True:\n",
      "        print response"
     ],
     "language": "python",
     "metadata": {},
     "outputs": [
      {
       "output_type": "stream",
       "stream": "stdout",
       "text": [
        "I'm not a sport fan\n",
        "Nothing really. If people want to play sports they will, if not they won't. You can't force anyone to something they don't want to do. If you do you're a dictator and we don't want dictators running Tang.\n",
        "Organize some tennis and table tennis games in the building\n",
        "Instead of letting people select a bunch of sports to play - focus on a few so we get enough ppl for a team\n",
        "Make attempts to play pick-ups other than IM games too at times at which more people can make them. \n",
        "I am not a sport fan. \n",
        "Don't let the sports chairs get rid of teams without a comprehensive search for captains.\n",
        "Not do it only through email, have central directory/site\n",
        "not sure\n",
        "Not sure.\n",
        "get more people in!\n",
        "play more games!\n",
        "I don't know but I wish more people signed up for softball \n",
        "Publicize BEFORE sign ups. Signups are very short, and theres little time to get people interested. \n",
        "Most people think they need to know how to play, Publicize as an opportunity to learn. \n",
        "Make people aware these are free. \n",
        "Sponsor \"try it\" or \"practice sessions\" before sign ups so people can try - most people will come once they realize they don't have to be good!\n",
        "Post some photos of the event to show how fun it could be. Emphasize you don't need to know much before.\n",
        "More advertisement\n",
        "I tried out a team once, but the attendance was low making it not fun. Now I just join my department's IM teams.\n",
        "-\n",
        "Don't know.\n",
        "1) I am not sure if there are Tang GetFit groups -- maybe this could be linked to sports participation. \n",
        "2) Socials linked to sports (soccer + outdoor bbq), ping-pong + indoor social might help\n",
        "I think the concept of a Tang sports team is kind of dumb. If people want to play sports they should make their own team with friends or join as a free agent. It is just highly inconvenient to look on IM leagues and see like 20 different teams that all have 1-5 people on them from different dorms or departments. At least make sure that there are enough people for a team before creating it. \n",
        "Place more ads in the building.\n",
        ".\n"
       ]
      }
     ],
     "prompt_number": 20
    },
    {
     "cell_type": "markdown",
     "metadata": {},
     "source": [
      "_Please state your opinion of the single most important thing, which needs to be done on a priority basis, to improve the social scenario in Tang._"
     ]
    },
    {
     "cell_type": "code",
     "collapsed": false,
     "input": [
      "for row in data.iterrows():\n",
      "    response = row[1]['Please state your opinion of the single most important thing, which needs to be done on a priority basis, to improve the social scenario in Tang.']\n",
      "    \n",
      "    if pd.isnull(response) != True:\n",
      "        print response"
     ],
     "language": "python",
     "metadata": {},
     "outputs": [
      {
       "output_type": "stream",
       "stream": "stdout",
       "text": [
        "Have more floor mixers with specific rooms invited rather than the entire building. Having the whole building at events is too much usually to really be able to meet people on a personal basis.\n",
        "Having a brunch or a coffee hour on a regular basis -- not just sporadically a few times during the semester.\n",
        "Is it possible to get a recycle at each floor.\n",
        "\n",
        "It is not about knowing your neighbor or know your neighbor well. It is about feeling at home including respecting private space. You guys are doing well. Don't make people come too close to me. ;)\n",
        "There should be some way to greet new residents.\n",
        "I think it's great! People are friendly in the elevators.\n",
        "Not about the social scenario, but going all the way outside to throw recyclables is a pain.\n",
        "Improve the recycling situation. Either collected more frequently or with more bins. \n",
        "Adding a compost program would be very much appreciated as well.\n",
        "not just have food, have activities that force random team formation\n",
        "I think it's fine how it is. I am an adult and can organize my own social events. The tang events are nice to have but really not necessary for me.\n",
        "Tear down Tang Hall.  This building wasn't designed to have any social interaction what so ever. Tang Hall is by far the worst dorm on campus.\n",
        "Encourage people to stick around rather than steal food and go.\n",
        "Improving the social/common areas by making them more appealing as study areas (like adding desks, etc.)\n",
        "get the rooms better. I frequently see rats in my apartment, which is awlful. If people don't want to spend much time in the dorm, there's no way social life in the dorm building will be improved.\n",
        "more floor events or floor-to-floor events\n",
        "Allow alcohol in the 24th floor lounge\n",
        "In the summer, westgate has a good model for BBQ's. Once a week, on Friday afternoons, they supply equipment, coals etc and have the grills going for 2 hours. People come, bring their stuff and BBQ, and play and socialize, and learn to BBQ> This is very friendly and social, and non exclusive. I go over there to be social! We should do things similar to that, not just with the BBQ, but with other things. Incorporate more things at normal times into every day life. \n",
        "Should try to put events in the lawn when warmer. The 24th lounge is not big enough to accomadate many people at a time so people tend to grab food and leave.\n",
        "Maybe, they should hold more events\n",
        "How to use the Gym?\n",
        "I think Tang could also attempt to host a coffee hour even like Ashdown. \n",
        "Tang should have more study lounges and social areas, the two are not sufficient for the 400+ people who live here.\n",
        "\n",
        "\n",
        "Probably things like weekly coffee hours in the lounge or the play room downstairs would promote a culture of regularly hanging out with the other Tang residents.\n",
        "ALLOW MOVIE CHECKOUT\n",
        "The movies have been sitting there all year collecting dust when they could be watched by Tang residents. Other dorms have this, and we should, too.\n",
        "More events to socialize. \n",
        "The food events don't do any good. Everybody shows up with tupperware, takes food, and goes. It's really depressing. I like the idea of the spacer series a lot. Maybe a tang trivia night or something like that? Something that actually gives people a place to interact.\n",
        "Floor coordinators could be more proactive in reaching out and involving residents on the floor. \n",
        "Fix the treadmills!\n",
        "More group activities. i.e: cinema night, board games night, etc.\n",
        "Have some kind of an \"activities fair\" for Tang at the beginning of the year so that we can find other residents that are interested in the same things we are.\n",
        ".\n"
       ]
      }
     ],
     "prompt_number": 21
    },
    {
     "cell_type": "code",
     "collapsed": false,
     "input": [],
     "language": "python",
     "metadata": {},
     "outputs": [],
     "prompt_number": 21
    }
   ],
   "metadata": {}
  }
 ]
}